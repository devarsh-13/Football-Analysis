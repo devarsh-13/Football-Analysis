{
  "nbformat": 4,
  "nbformat_minor": 0,
  "metadata": {
    "colab": {
      "name": "football_analysis.ipynb",
      "provenance": [],
      "collapsed_sections": []
    },
    "kernelspec": {
      "name": "python3",
      "display_name": "Python 3"
    },
    "language_info": {
      "name": "python"
    }
  },
  "cells": [
    {
      "cell_type": "code",
      "execution_count": null,
      "metadata": {
        "id": "dcvDkoHfLD7G",
        "colab": {
          "base_uri": "https://localhost:8080/"
        },
        "outputId": "bb0237d4-0058-4c81-a7ce-83ffc53cc889"
      },
      "outputs": [
        {
          "output_type": "stream",
          "name": "stdout",
          "text": [
            "\u001b[K     |████████████████████████████████| 281.4 MB 35 kB/s \n",
            "\u001b[K     |████████████████████████████████| 198 kB 56.5 MB/s \n",
            "\u001b[?25h  Building wheel for pyspark (setup.py) ... \u001b[?25l\u001b[?25hdone\n"
          ]
        }
      ],
      "source": [
        "# install py-spark\n",
        "!pip install --quiet pyspark"
      ]
    },
    {
      "cell_type": "code",
      "source": [
        "# mount Google Drive\n",
        "from google.colab import drive\n",
        "drive.mount(\"/content/gdrive\")"
      ],
      "metadata": {
        "colab": {
          "base_uri": "https://localhost:8080/"
        },
        "id": "fCR5FDXaqA6Z",
        "outputId": "0508680a-408c-455e-ab46-0a044d98d31d"
      },
      "execution_count": null,
      "outputs": [
        {
          "output_type": "stream",
          "name": "stdout",
          "text": [
            "Mounted at /content/gdrive\n"
          ]
        }
      ]
    },
    {
      "cell_type": "code",
      "source": [
        "# Start Spark Session\n",
        "from pyspark.sql import SparkSession\n",
        "\n",
        "spark = SparkSession \\\n",
        "    .builder \\\n",
        "    .appName(\"OLAP-project\") \\\n",
        "    .getOrCreate()"
      ],
      "metadata": {
        "id": "kW4NX7xyqYOY"
      },
      "execution_count": null,
      "outputs": []
    },
    {
      "cell_type": "code",
      "source": [
        "# A function to create table from a CSV\n",
        "def csvToTable(file_name, table_name):\n",
        "  db_name = \"\"\n",
        "  #table_name = db_name + table_name\n",
        "  df = spark.read \\\n",
        "  .option(\"header\", \"true\") \\\n",
        "  .option(\"inferSchema\", \"true\") \\\n",
        "  .option(\"sep\", \",\") \\\n",
        "  .csv( \"gdrive/My Drive/Big data/project\" + file_name )\n",
        "  df.createOrReplaceTempView( table_name +\"df\" ) \n",
        "\n",
        "  sql_str = \"drop table IF EXISTS \" + table_name\n",
        "  spark.sql( sql_str )\n",
        "\n",
        "  sql_str = \"create table \" + table_name \\\n",
        "  + \" USING PARQUET AS\" \\\n",
        "  + \" SELECT * FROM \" + table_name + \"df\"\n",
        "  spark.sql( sql_str )\n",
        "\n",
        "  sql_str = \"describe \" + table_name\n",
        "  print(\"Table \" + table_name + \" Done Successfully!\")\n",
        "  spark.sql( sql_str ).show()\n",
        "\n",
        "  spark.catalog.dropTempView( table_name + \"df\" )"
      ],
      "metadata": {
        "id": "TZHLKz1kqwSC"
      },
      "execution_count": null,
      "outputs": []
    },
    {
      "cell_type": "code",
      "source": [
        "  # Create Tables\n",
        "csvToTable(\"/appearances.csv\", \"appearances\")\n",
        "csvToTable(\"/players.csv\", \"players\")\n",
        "csvToTable(\"/shots.csv\", \"shots\")\n",
        "csvToTable(\"/games.csv\", \"games\")\n"
      ],
      "metadata": {
        "id": "WZWPKuHgq9ON",
        "colab": {
          "base_uri": "https://localhost:8080/"
        },
        "outputId": "5abdefb3-d4dc-4054-da3d-924de1ee2ef0"
      },
      "execution_count": null,
      "outputs": [
        {
          "output_type": "stream",
          "name": "stdout",
          "text": [
            "Table appearances Done Successfully!\n",
            "+-------------+---------+-------+\n",
            "|     col_name|data_type|comment|\n",
            "+-------------+---------+-------+\n",
            "|       gameID|      int|   null|\n",
            "|     playerID|      int|   null|\n",
            "|        goals|      int|   null|\n",
            "|     ownGoals|      int|   null|\n",
            "|        shots|      int|   null|\n",
            "|       xGoals|   double|   null|\n",
            "|  xGoalsChain|   double|   null|\n",
            "|xGoalsBuildup|   double|   null|\n",
            "|      assists|      int|   null|\n",
            "|    keyPasses|      int|   null|\n",
            "|     xAssists|   double|   null|\n",
            "|     position|   string|   null|\n",
            "|positionOrder|      int|   null|\n",
            "|   yellowCard|      int|   null|\n",
            "|      redCard|      int|   null|\n",
            "|         time|      int|   null|\n",
            "| substituteIn|      int|   null|\n",
            "|substituteOut|      int|   null|\n",
            "|     leagueID|      int|   null|\n",
            "+-------------+---------+-------+\n",
            "\n",
            "Table players Done Successfully!\n",
            "+--------+---------+-------+\n",
            "|col_name|data_type|comment|\n",
            "+--------+---------+-------+\n",
            "|playerID|      int|   null|\n",
            "|    name|   string|   null|\n",
            "+--------+---------+-------+\n",
            "\n",
            "Table shots Done Successfully!\n",
            "+----------+---------+-------+\n",
            "|  col_name|data_type|comment|\n",
            "+----------+---------+-------+\n",
            "|    gameID|      int|   null|\n",
            "| shooterID|      int|   null|\n",
            "|assisterID|   string|   null|\n",
            "|    minute|      int|   null|\n",
            "| situation|   string|   null|\n",
            "|lastAction|   string|   null|\n",
            "|  shotType|   string|   null|\n",
            "|shotResult|   string|   null|\n",
            "|     xGoal|   double|   null|\n",
            "| positionX|   double|   null|\n",
            "| positionY|   double|   null|\n",
            "+----------+---------+-------+\n",
            "\n",
            "Table games Done Successfully!\n",
            "+-----------------+---------+-------+\n",
            "|         col_name|data_type|comment|\n",
            "+-----------------+---------+-------+\n",
            "|           gameID|      int|   null|\n",
            "|         leagueID|      int|   null|\n",
            "|           season|      int|   null|\n",
            "|             date|   string|   null|\n",
            "|       homeTeamID|      int|   null|\n",
            "|       awayTeamID|      int|   null|\n",
            "|        homeGoals|      int|   null|\n",
            "|        awayGoals|      int|   null|\n",
            "|  homeProbability|   double|   null|\n",
            "|  drawProbability|   double|   null|\n",
            "|  awayProbability|   double|   null|\n",
            "|homeGoalsHalfTime|      int|   null|\n",
            "|awayGoalsHalfTime|      int|   null|\n",
            "|            B365H|   string|   null|\n",
            "|            B365D|   string|   null|\n",
            "|            B365A|   string|   null|\n",
            "|              BWH|   string|   null|\n",
            "|              BWD|   string|   null|\n",
            "|              BWA|   string|   null|\n",
            "|              IWH|   string|   null|\n",
            "+-----------------+---------+-------+\n",
            "only showing top 20 rows\n",
            "\n"
          ]
        }
      ]
    },
    {
      "cell_type": "code",
      "source": [
        "#Viewing appearances table\n",
        "sql_str = \"select * from appearances limit 10\"\n",
        "spark.sql( sql_str ).show()"
      ],
      "metadata": {
        "colab": {
          "base_uri": "https://localhost:8080/"
        },
        "id": "xSwXeQSPQeAP",
        "outputId": "6a9c0049-bb24-4488-9aa1-e28c8d3febad"
      },
      "execution_count": null,
      "outputs": [
        {
          "output_type": "stream",
          "name": "stdout",
          "text": [
            "+------+--------+-----+--------+-----+-----------------+------------------+------------------+-------+---------+------------------+--------+-------------+----------+-------+----+------------+-------------+--------+\n",
            "|gameID|playerID|goals|ownGoals|shots|           xGoals|       xGoalsChain|     xGoalsBuildup|assists|keyPasses|          xAssists|position|positionOrder|yellowCard|redCard|time|substituteIn|substituteOut|leagueID|\n",
            "+------+--------+-----+--------+-----+-----------------+------------------+------------------+-------+---------+------------------+--------+-------------+----------+-------+----+------------+-------------+--------+\n",
            "|    81|     560|    0|       0|    0|              0.0|               0.0|               0.0|      0|        0|               0.0|      GK|            1|         0|      0|  90|           0|            0|       1|\n",
            "|    81|     557|    0|       0|    0|              0.0| 0.106513060629368| 0.106513060629368|      0|        1| 0.106513060629368|      DR|            2|         0|      0|  82|      222605|            0|       1|\n",
            "|    81|     548|    0|       0|    0|              0.0| 0.127737730741501| 0.127737730741501|      0|        0|               0.0|      DC|            3|         0|      0|  90|           0|            0|       1|\n",
            "|    81|     628|    0|       0|    0|              0.0| 0.106513060629368| 0.106513060629368|      0|        0|               0.0|      DC|            3|         0|      0|  90|           0|            0|       1|\n",
            "|    81|    1006|    0|       0|    0|              0.0|0.0212246645241976|0.0212246645241976|      0|        0|               0.0|      DL|            4|         0|      0|  90|           0|            0|       1|\n",
            "|    81|     551|    0|       0|    0|              0.0| 0.163669869303703| 0.163669869303703|      0|        0|               0.0|     DMC|            7|         0|      0|  90|           0|            0|       1|\n",
            "|    81|     654|    0|       0|    0|              0.0|0.0357420146465302|               0.0|      0|        1|0.0357420146465302|     DMC|            7|         0|      0|  61|      222606|            0|       1|\n",
            "|    81|     554|    0|       0|    3|0.253644913434982| 0.255811274051666| 0.106513060629368|      0|        0|               0.0|     AMR|           11|         1|      0|  90|           0|            0|       1|\n",
            "|    81|     555|    0|       0|    3|0.121308878064156|0.0569666810333729|               0.0|      0|        0|               0.0|     AMC|           12|         0|      0|  69|      222607|            0|       1|\n",
            "|    81|     631|    0|       0|    1|0.103004261851311| 0.124228924512863|0.0212246645241976|      0|        1| 0.064342200756073|     AML|           13|         0|      0|  90|           0|            0|       1|\n",
            "+------+--------+-----+--------+-----+-----------------+------------------+------------------+-------+---------+------------------+--------+-------------+----------+-------+----+------------+-------------+--------+\n",
            "\n"
          ]
        }
      ]
    },
    {
      "cell_type": "code",
      "source": [
        "#Viewing players table\n",
        "sql_str = \"select * from players limit 10\"\n",
        "spark.sql( sql_str ).show()"
      ],
      "metadata": {
        "colab": {
          "base_uri": "https://localhost:8080/"
        },
        "id": "qwO7t4TRQvvm",
        "outputId": "009ba61c-019a-4ec1-a661-28ff071c1747"
      },
      "execution_count": null,
      "outputs": [
        {
          "output_type": "stream",
          "name": "stdout",
          "text": [
            "+--------+-------------------+\n",
            "|playerID|               name|\n",
            "+--------+-------------------+\n",
            "|     560|      Sergio Romero|\n",
            "|     557|     Matteo Darmian|\n",
            "|     548|        Daley Blind|\n",
            "|     628|     Chris Smalling|\n",
            "|    1006|          Luke Shaw|\n",
            "|     551|Morgan Schneiderlin|\n",
            "|     654|    Michael Carrick|\n",
            "|     554|          Juan Mata|\n",
            "|     555|      Memphis Depay|\n",
            "|     631|       Ashley Young|\n",
            "+--------+-------------------+\n",
            "\n"
          ]
        }
      ]
    },
    {
      "cell_type": "code",
      "source": [
        "#Viewing games table\n",
        "sql_str = \"select * from shots limit 10\"\n",
        "spark.sql( sql_str ).show()"
      ],
      "metadata": {
        "colab": {
          "base_uri": "https://localhost:8080/"
        },
        "id": "hcRAksLcQx5G",
        "outputId": "b32b78b3-970a-4b87-ca33-0e493582846c"
      },
      "execution_count": null,
      "outputs": [
        {
          "output_type": "stream",
          "name": "stdout",
          "text": [
            "+------+---------+----------+------+--------------+------------+---------+-----------+------------------+-----------------+-----------------+\n",
            "|gameID|shooterID|assisterID|minute|     situation|  lastAction| shotType| shotResult|             xGoal|        positionX|        positionY|\n",
            "+------+---------+----------+------+--------------+------------+---------+-----------+------------------+-----------------+-----------------+\n",
            "|    81|      554|        NA|    27|DirectFreekick|    Standard| LeftFoot|BlockedShot| 0.104346722364426|0.794000015258789|0.420999984741211|\n",
            "|    81|      555|       631|    27|      SetPiece|        Pass|RightFoot|BlockedShot| 0.064342200756073|             0.86|0.627000007629395|\n",
            "|    81|      554|       629|    35|      OpenPlay|        Pass| LeftFoot|BlockedShot|0.0571568161249161|0.843000030517578|0.332999992370605|\n",
            "|    81|      554|        NA|    35|      OpenPlay|      Tackle| LeftFoot|MissedShots|0.0921413898468018|0.848000030517578|0.532999992370605|\n",
            "|    81|      555|       654|    40|      OpenPlay|BallRecovery|RightFoot|BlockedShot|0.0357420146465302|0.811999969482422|0.706999969482422|\n",
            "|    81|      555|       629|    49|      OpenPlay|        Pass| LeftFoot|MissedShots|0.0212246645241976|            0.725|            0.545|\n",
            "|    81|      631|        NA|    64|      OpenPlay|        None|RightFoot|  SavedShot| 0.103004261851311|0.895999984741211|0.597000007629395|\n",
            "|    81|      629|       557|    72|      OpenPlay|       Cross|RightFoot|MissedShots| 0.106513060629368|             0.89|0.534000015258789|\n",
            "|    81|      629|        NA|    76|DirectFreekick|    Standard|RightFoot|MissedShots|0.0430676527321339|0.746999969482422|0.694000015258789|\n",
            "|    81|      646|       647|     4|      OpenPlay|     Chipped| LeftFoot|MissedShots| 0.297303676605225|0.901999969482422|             0.61|\n",
            "+------+---------+----------+------+--------------+------------+---------+-----------+------------------+-----------------+-----------------+\n",
            "\n"
          ]
        }
      ]
    },
    {
      "cell_type": "code",
      "source": [
        "#Viewing games table\n",
        "sql_str = \"select * from games limit 10\"\n",
        "spark.sql( sql_str ).show()"
      ],
      "metadata": {
        "colab": {
          "base_uri": "https://localhost:8080/"
        },
        "id": "VnHtUL_f1Xop",
        "outputId": "50720959-61a7-4b01-9d3c-431af476b7f5"
      },
      "execution_count": null,
      "outputs": [
        {
          "output_type": "stream",
          "name": "stdout",
          "text": [
            "+------+--------+------+-------------------+----------+----------+---------+---------+---------------+---------------+---------------+-----------------+-----------------+-----+-----+-----+----+----+----+----+---+----+----+----+-----+----+---+----+----+----+----+----+----+-----+\n",
            "|gameID|leagueID|season|               date|homeTeamID|awayTeamID|homeGoals|awayGoals|homeProbability|drawProbability|awayProbability|homeGoalsHalfTime|awayGoalsHalfTime|B365H|B365D|B365A| BWH| BWD| BWA| IWH|IWD| IWA| PSH| PSD|  PSA| WHH|WHD| WHA| VCH| VCD| VCA|PSCH|PSCD| PSCA|\n",
            "+------+--------+------+-------------------+----------+----------+---------+---------+---------------+---------------+---------------+-----------------+-----------------+-----+-----+-----+----+----+----+----+---+----+----+----+-----+----+---+----+----+----+----+----+----+-----+\n",
            "|    81|       1|  2015|2015-08-08 15:45:00|        89|        82|        1|        0|         0.2843|         0.3999|         0.3158|                1|                0| 1.65|    4|    6|1.65|   4| 5.5|1.65|3.6| 5.1|1.65|4.09|  5.9|1.62|3.6|   6|1.67|   4|5.75|1.64|4.07| 6.04|\n",
            "|    82|       1|  2015|2015-08-08 18:00:00|        73|        71|        0|        1|         0.3574|           0.35|         0.2926|                0|                0|    2|  3.6|    4|   2| 3.3| 3.7| 2.1|3.3| 3.3|1.95|3.65| 4.27|1.91|3.5|   4|   2| 3.5| 4.2|1.82|3.88|  4.7|\n",
            "|    83|       1|  2015|2015-08-08 18:00:00|        72|        90|        2|        2|         0.2988|         0.4337|         0.2675|                0|                1|  1.7|  3.9|  5.5| 1.7| 3.5|   5| 1.7|3.6| 4.7| 1.7|3.95| 5.62|1.73|3.5|   5|1.73| 3.9| 5.4|1.75|3.76| 5.44|\n",
            "|    84|       1|  2015|2015-08-08 18:00:00|        75|        77|        4|        2|         0.6422|         0.2057|         0.1521|                3|                0| 1.95|  3.5| 4.33|   2| 3.3|3.75|   2|3.3| 3.6|1.99|3.48| 4.34|   2|3.1| 2.7|   2| 3.4|4.33|1.79|3.74|  5.1|\n",
            "|    85|       1|  2015|2015-08-08 18:00:00|        79|        78|        1|        3|         0.1461|         0.2159|          0.638|                0|                1| 2.55|  3.3|    3| 2.6| 3.2| 2.7| 2.4|3.2|2.85|2.52|3.35| 3.08| 2.6|3.1|2.88| 2.6|3.25|   3|2.46|3.39| 3.14|\n",
            "|    86|       1|  2015|2015-08-08 20:30:00|        80|        84|        2|        2|         0.0304|         0.0924|         0.8772|                2|                1| 1.36|    5|   11| 1.4|4.75|   9|1.33|4.8| 8.3|1.39|4.92|10.39| 1.4|  4|  10| 1.4|   5| 9.5|1.37|5.04|10.88|\n",
            "|    87|       1|  2015|2015-08-09 16:30:00|        86|        74|        2|        2|         0.4386|         0.3165|         0.2449|                1|                1| 2.88|  3.3|  2.7| 2.8| 3.1|2.75|2.65|3.3| 2.5|2.88|3.33| 2.69| 2.7|3.1| 2.7|2.88|3.25| 2.7|3.09|3.28| 2.55|\n",
            "|    88|       1|  2015|2015-08-09 16:30:00|        83|        81|        0|        2|         0.5751|         0.2826|         0.1423|                0|                1| 1.29|    6|   12|1.28|5.75|10.5|1.33|4.8| 8.3|1.31|5.75|   12| 1.3|  5|  11| 1.3|5.75|  12|1.24|6.75|   15|\n",
            "|    89|       1|  2015|2015-08-09 19:00:00|        85|        87|        0|        1|         0.2482|         0.5454|         0.2064|                0|                0|  3.4|  3.4|  2.3| 3.2| 3.4| 2.3| 2.9|3.3| 2.3|3.48|3.46| 2.25| 3.3|3.1| 2.3| 3.4| 3.4| 2.3|3.89|3.51| 2.09|\n",
            "|    90|       1|  2015|2015-08-10 23:00:00|        76|        88|        0|        3|         0.0615|         0.1698|         0.7687|                0|                2| 5.75|    4| 1.67|4.75|   4|1.65| 5.1|3.6|1.65|5.75|3.98| 1.68| 5.5|3.5| 1.7| 5.5|   4| 1.7|6.46|4.08| 1.61|\n",
            "+------+--------+------+-------------------+----------+----------+---------+---------+---------------+---------------+---------------+-----------------+-----------------+-----+-----+-----+----+----+----+----+---+----+----+----+-----+----+---+----+----+----+----+----+----+-----+\n",
            "\n"
          ]
        }
      ]
    },
    {
      "cell_type": "markdown",
      "source": [
        "# CUBE BUILDING"
      ],
      "metadata": {
        "id": "MVLR7GidRs4f"
      }
    },
    {
      "cell_type": "markdown",
      "source": [
        "#appearance cube"
      ],
      "metadata": {
        "id": "ZdGd2hCch8l9"
      }
    },
    {
      "cell_type": "markdown",
      "source": [
        "##1.Get player id name goals position "
      ],
      "metadata": {
        "id": "ZOkUj8CE4SWI"
      }
    },
    {
      "cell_type": "code",
      "source": [
        "\n",
        "sql_str = \"SELECT a.playerId,p.name, SUM(goals)as goals, position FROM appearances a  \" \\\n",
        "  + \" JOIN players p ON( a.playerId = p.playerId)\"\\\n",
        "  + \"GROUP BY p.name, a.playerID,position WITH CUBE\"\n",
        "appearances_cube = spark.sql( sql_str )\n",
        "appearances_cube.show()\n",
        "appearances_cube.write.mode(\"overwrite\").csv('appearances_cube3d.csv')"
      ],
      "metadata": {
        "colab": {
          "base_uri": "https://localhost:8080/"
        },
        "id": "1WD63XvYRE92",
        "outputId": "87fd5e25-2cd1-4067-bbc2-6ca87f396ec4"
      },
      "execution_count": null,
      "outputs": [
        {
          "output_type": "stream",
          "name": "stdout",
          "text": [
            "+--------+------------------+-----+--------+\n",
            "|playerID|              name|goals|position|\n",
            "+--------+------------------+-----+--------+\n",
            "|     927|  Sebasti�n Coates|    0|      DC|\n",
            "|     863|  Jonathan Walters|    6|     AMR|\n",
            "|     601|       Arouna Kon�|    3|     AML|\n",
            "|     815|    Alex Pritchard|    0|     Sub|\n",
            "|     897|            Juanmi|   12|     Sub|\n",
            "|     823|Vadis Odjidja-Ofoe|    0|     Sub|\n",
            "|     939|      Mauro Z�rate|    0|      MR|\n",
            "|    1764|     Ramadan Sobhi|    2|     Sub|\n",
            "|    1954|  Samuel Souprayen|    0|      DL|\n",
            "|    1888| Antonio Di Natale|   14|      FW|\n",
            "|    1953|      Karim Laribi|    0|     Sub|\n",
            "|    1279|  Roberto Vitiello|    0|     Sub|\n",
            "|    1442|     Saphir Ta�der|    0|     DMC|\n",
            "|    1815|              Alex|    0|     Sub|\n",
            "|    1859|    Matteo Ciofani|    0|      DR|\n",
            "|    1864|        Mirko Gori|    0|     Sub|\n",
            "|    1480|   Gianluca Pegolo|    0|      GK|\n",
            "|    1899|  Lorenzo Pasciuti|    0|      ML|\n",
            "|    1899|  Lorenzo Pasciuti|    2|      MR|\n",
            "|    1446|   Sergio Floccari|    0|     FWL|\n",
            "+--------+------------------+-----+--------+\n",
            "only showing top 20 rows\n",
            "\n"
          ]
        }
      ]
    },
    {
      "cell_type": "code",
      "source": [
        "appearances_cube.createOrReplaceTempView( \"appearances_cube\" )"
      ],
      "metadata": {
        "id": "avj3gvoic67l"
      },
      "execution_count": null,
      "outputs": []
    },
    {
      "cell_type": "markdown",
      "source": [
        "#shots cube"
      ],
      "metadata": {
        "id": "DHsNLALNiA2B"
      }
    },
    {
      "cell_type": "markdown",
      "source": [
        "##2. Get shooter id, situation, minute, shot result "
      ],
      "metadata": {
        "id": "7Jz068Cw4U6n"
      }
    },
    {
      "cell_type": "code",
      "source": [
        "sql_str = \"SELECT shooterId, situation, minute , shotResult FROM shots group by shooterId, situation, shotResult,minute WITH CUBE ORDER BY shooterId\"\n",
        "shots_cube = spark.sql( sql_str )\n",
        "shots_cube.show()\n",
        "shots_cube.write.mode(\"overwrite\").csv('shots_cube3d.csv')"
      ],
      "metadata": {
        "colab": {
          "base_uri": "https://localhost:8080/"
        },
        "id": "invTcLNziDKN",
        "outputId": "c8e60f25-d402-48d0-ba77-dfa9c9f77962"
      },
      "execution_count": null,
      "outputs": [
        {
          "output_type": "stream",
          "name": "stdout",
          "text": [
            "+---------+--------------+------+-----------+\n",
            "|shooterId|     situation|minute| shotResult|\n",
            "+---------+--------------+------+-----------+\n",
            "|     null|      OpenPlay|    82| ShotOnPost|\n",
            "|     null|      SetPiece|    62|BlockedShot|\n",
            "|     null|    FromCorner|    62|       Goal|\n",
            "|     null|      SetPiece|    14|MissedShots|\n",
            "|     null|      OpenPlay|    12|       null|\n",
            "|     null|          null|  null|BlockedShot|\n",
            "|     null|    FromCorner|     2|       Goal|\n",
            "|     null|    FromCorner|     9| ShotOnPost|\n",
            "|     null|DirectFreekick|    80| ShotOnPost|\n",
            "|     null|       Penalty|    59|  SavedShot|\n",
            "|     null|      OpenPlay|    75|       Goal|\n",
            "|     null|      SetPiece|    68|MissedShots|\n",
            "|     null|          null|    57|       null|\n",
            "|     null|      OpenPlay|    15|       null|\n",
            "|     null|      OpenPlay|     9|       null|\n",
            "|     null|          null|     3|  SavedShot|\n",
            "|     null|      OpenPlay|    76|MissedShots|\n",
            "|     null|    FromCorner|    44|       null|\n",
            "|     null|          null|    58|       Goal|\n",
            "|     null|      SetPiece|    40|MissedShots|\n",
            "+---------+--------------+------+-----------+\n",
            "only showing top 20 rows\n",
            "\n"
          ]
        }
      ]
    },
    {
      "cell_type": "code",
      "source": [
        "appearances_cube.createOrReplaceTempView( \"shots_cube\" )"
      ],
      "metadata": {
        "id": "mDuVfv9wXZco"
      },
      "execution_count": null,
      "outputs": []
    },
    {
      "cell_type": "markdown",
      "source": [
        "#games cube\n"
      ],
      "metadata": {
        "id": "Suz2G0lm1cuG"
      }
    },
    {
      "cell_type": "markdown",
      "source": [
        "##3. get game_id, season, homeGoals, awayGoals from games table"
      ],
      "metadata": {
        "id": "g5hG0PXq4de2"
      }
    },
    {
      "cell_type": "code",
      "source": [
        "sql_str = \"SELECT gameId, season, SUM(homeGoals) as home_goals , SUM(awayGoals) as away_goals FROM games\"\\\n",
        "+\" group by gameId, season  WITH CUBE ORDER BY gameId\"\n",
        "games_cube = spark.sql( sql_str )\n",
        "games_cube.show()\n",
        "games_cube.write.mode(\"overwrite\").csv('games_cube3d.csv')"
      ],
      "metadata": {
        "colab": {
          "base_uri": "https://localhost:8080/"
        },
        "id": "CsUriWOa1d8-",
        "outputId": "5c0b35c5-6c62-4ba5-c9d5-be2e19b134b5"
      },
      "execution_count": null,
      "outputs": [
        {
          "output_type": "stream",
          "name": "stdout",
          "text": [
            "+------+------+----------+----------+\n",
            "|gameId|season|home_goals|away_goals|\n",
            "+------+------+----------+----------+\n",
            "|  null|  2016|      2967|      2206|\n",
            "|  null|  2017|      2794|      2153|\n",
            "|  null|  2014|      2736|      2062|\n",
            "|  null|  2020|      2696|      2418|\n",
            "|  null|  2018|      2819|      2200|\n",
            "|  null|  2019|      2663|      2153|\n",
            "|  null|  null|     19441|     15300|\n",
            "|  null|  2015|      2766|      2108|\n",
            "|    81|  null|         1|         0|\n",
            "|    81|  2015|         1|         0|\n",
            "|    82|  null|         0|         1|\n",
            "|    82|  2015|         0|         1|\n",
            "|    83|  null|         2|         2|\n",
            "|    83|  2015|         2|         2|\n",
            "|    84|  null|         4|         2|\n",
            "|    84|  2015|         4|         2|\n",
            "|    85|  2015|         1|         3|\n",
            "|    85|  null|         1|         3|\n",
            "|    86|  null|         2|         2|\n",
            "|    86|  2015|         2|         2|\n",
            "+------+------+----------+----------+\n",
            "only showing top 20 rows\n",
            "\n"
          ]
        }
      ]
    },
    {
      "cell_type": "code",
      "source": [
        "games_cube.createOrReplaceTempView( \"games_cube\" )"
      ],
      "metadata": {
        "id": "gVT0kKJ3jMhw"
      },
      "execution_count": null,
      "outputs": []
    },
    {
      "cell_type": "markdown",
      "source": [
        "#slicing"
      ],
      "metadata": {
        "id": "axLUjfb3dEGY"
      }
    },
    {
      "cell_type": "markdown",
      "source": [
        "##4.Total goals and assists of FW players "
      ],
      "metadata": {
        "id": "MqfUvkvAeSde"
      }
    },
    {
      "cell_type": "code",
      "source": [
        "sql_str = \"SELECT * from appearances_cube where position = 'FW' \"\n",
        "spark.sql( sql_str ).show()"
      ],
      "metadata": {
        "colab": {
          "base_uri": "https://localhost:8080/"
        },
        "id": "Gn_ftHSGdFYu",
        "outputId": "2dd6599e-18d1-4831-84f5-d5b4e7fc0188"
      },
      "execution_count": null,
      "outputs": [
        {
          "output_type": "stream",
          "name": "stdout",
          "text": [
            "+--------+------------------+-----+--------+\n",
            "|playerID|              name|goals|position|\n",
            "+--------+------------------+-----+--------+\n",
            "|    1888| Antonio Di Natale|   14|      FW|\n",
            "|    1473|   Matteo Politano|    8|      FW|\n",
            "|    6036|Rajiv van La Parra|    0|      FW|\n",
            "|    5169| Youssef En-Nesyri|   32|      FW|\n",
            "|    1577|       Marko Pjaca|    2|      FW|\n",
            "|     594|              null|  123|      FW|\n",
            "|     940|              null|    7|      FW|\n",
            "|    null|       Libor Koz�k|    0|      FW|\n",
            "|    null|         Marco Sau|   12|      FW|\n",
            "|    null|       Timo Werner|   74|      FW|\n",
            "|     276|              null|    4|      FW|\n",
            "|    null|      Sergi Enrich|   28|      FW|\n",
            "|    null|         Casades�s|    8|      FW|\n",
            "|    3683|              null|    1|      FW|\n",
            "|    null|   Julian Schieber|    6|      FW|\n",
            "|    null|     Rub�n Sobrino|    6|      FW|\n",
            "|    null|  Prejuce Nakoulma|    8|      FW|\n",
            "|    null|     George Puscas|    1|      FW|\n",
            "|    4366|              null|    0|      FW|\n",
            "|    4718|              null|    0|      FW|\n",
            "+--------+------------------+-----+--------+\n",
            "only showing top 20 rows\n",
            "\n"
          ]
        }
      ]
    },
    {
      "cell_type": "markdown",
      "source": [
        "##5.Highest goal ratio playerid and his goals in season 2020."
      ],
      "metadata": {
        "id": "8rMoEDyA8O2I"
      }
    },
    {
      "cell_type": "code",
      "source": [
        "\n",
        "sql_str = \"SELECT shooterId, p.name, SUM(a.goals), MAX(xGoal) from shots\"\\\n",
        " +\" s JOIN players p ON(s.shooterId = p.playerId) JOIN games g ON(s.gameId = g.gameId)\"\\\n",
        " +\" JOIN appearances a ON(s.shooterId = a.playerId)\"\\\n",
        " +\" where g.season = '2020' GROUP BY s.shooterId, p.name\"\\\n",
        " +\" ORDER BY s.shooterId\"\n",
        "\n",
        "spark.sql( sql_str ).show()"
      ],
      "metadata": {
        "id": "FTqefbr5760U",
        "colab": {
          "base_uri": "https://localhost:8080/"
        },
        "outputId": "3e72bc98-1540-4bdf-d07f-0525d1705029"
      },
      "execution_count": null,
      "outputs": [
        {
          "output_type": "stream",
          "name": "stdout",
          "text": [
            "+---------+--------------------+----------+------------------+\n",
            "|shooterId|                name|sum(goals)|        max(xGoal)|\n",
            "+---------+--------------------+----------+------------------+\n",
            "|        3|      Luca Caldirola|        21| 0.130910724401474|\n",
            "|       22|         John Brooks|       180|  0.51889580488205|\n",
            "|       23| Marvin Plattenhardt|        18|0.0501803532242775|\n",
            "|       27|     Vladimir Darida|       459| 0.474260807037354|\n",
            "|       28|     Mitchell Weiser|        18|0.0583156235516071|\n",
            "|       29|      Vedad Ibisevic|        90| 0.646249175071716|\n",
            "|       38|    Daniel Brosinski|       100|  0.75777667760849|\n",
            "|       40|         Stefan Bell|        88|0.0900668501853943|\n",
            "|       42|Julian Baumgartli...|        49| 0.689103305339813|\n",
            "|       43|         Danny Latza|       132| 0.605999708175659|\n",
            "|       47|      Yoshinori Muto|       484| 0.675653636455536|\n",
            "|       48|        Jhon C�rdoba|      1632| 0.583697021007538|\n",
            "|       52|      Alexander Hack|        21|0.0974528416991234|\n",
            "|       60|   Christian Gentner|       105|0.0539998114109039|\n",
            "|       64|        Filip Kostic|      1612| 0.572721719741821|\n",
            "|       65|         Timo Werner|      7533| 0.910899639129639|\n",
            "|       69|       Carlos Gruezo|        16|0.0699499845504761|\n",
            "|       74|     Pavel Kader�bek|        70| 0.406523674726486|\n",
            "|       75|         Niklas S�le|       160| 0.104078404605389|\n",
            "|       76|        Fabian Sch�r|       120| 0.761168837547302|\n",
            "+---------+--------------------+----------+------------------+\n",
            "only showing top 20 rows\n",
            "\n"
          ]
        }
      ]
    },
    {
      "cell_type": "markdown",
      "source": [
        "##6.Gameid, awayGoals, homeProbability, awayProbability where a home team lost by 4 or more goals."
      ],
      "metadata": {
        "id": "RNBgKQxF_-X7"
      }
    },
    {
      "cell_type": "code",
      "source": [
        "sql_str = \"SELECT Gameid,awayGoals, homeProbability, awayProbability from games\"\\\n",
        "\" where awayGoals >=4 \"\n",
        "spark.sql( sql_str ).show()"
      ],
      "metadata": {
        "colab": {
          "base_uri": "https://localhost:8080/"
        },
        "id": "LUY8vgtiAG2A",
        "outputId": "1ff1567b-93b5-46a7-e15f-ecbafff342de"
      },
      "execution_count": null,
      "outputs": [
        {
          "output_type": "stream",
          "name": "stdout",
          "text": [
            "+------+---------+---------------+---------------+\n",
            "|Gameid|awayGoals|homeProbability|awayProbability|\n",
            "+------+---------+---------------+---------------+\n",
            "|   106|        4|         0.1041|         0.7202|\n",
            "|   144|        5|         0.0518|         0.8594|\n",
            "|   178|        5|         0.0068|          0.961|\n",
            "|   208|        4|         0.0916|         0.7435|\n",
            "|   265|        4|         0.5398|         0.2041|\n",
            "|   286|        4|         0.0471|         0.7914|\n",
            "|   301|        5|         0.2233|         0.4551|\n",
            "|   339|        6|         0.0134|         0.8843|\n",
            "|   384|        4|         0.0442|         0.8396|\n",
            "|   386|        4|         0.4982|         0.2203|\n",
            "|   414|        4|         0.0203|         0.9004|\n",
            "|   421|        4|         0.0697|         0.8242|\n",
            "|   422|        4|         0.0702|         0.7652|\n",
            "|   439|        4|         0.3543|         0.3887|\n",
            "|   469|        4|         0.2393|         0.4748|\n",
            "|   472|        4|         0.1427|         0.6019|\n",
            "|   493|        4|         0.0711|         0.7978|\n",
            "|   497|        4|         0.2437|         0.5076|\n",
            "|   502|        4|         0.0142|         0.9209|\n",
            "|   608|        4|         0.0044|         0.9415|\n",
            "+------+---------+---------------+---------------+\n",
            "only showing top 20 rows\n",
            "\n"
          ]
        }
      ]
    },
    {
      "cell_type": "markdown",
      "source": [
        "# Dicing"
      ],
      "metadata": {
        "id": "dQxisGXDPe6H"
      }
    },
    {
      "cell_type": "markdown",
      "source": [
        "##7.Get the player name, situation and last action when shot result is goal and minute is 90"
      ],
      "metadata": {
        "id": "9iMy08ZAIzNS"
      }
    },
    {
      "cell_type": "code",
      "source": [
        "sql_str = \"SELECT s.shooterId, p.name, situation, lastAction  FROM shots s JOIN players p ON (s.shooterId = p.playerId)\"\\\n",
        " + \"WHERE shotResult='Goal' and minute = 90 \" \\\n",
        "  + \"ORDER BY s.shooterId\"\n",
        "spark.sql( sql_str ).show()"
      ],
      "metadata": {
        "colab": {
          "base_uri": "https://localhost:8080/"
        },
        "id": "nm8vlLJZhG4z",
        "outputId": "46627031-d60c-4b4d-86bd-e5afdbbab3a1"
      },
      "execution_count": null,
      "outputs": [
        {
          "output_type": "stream",
          "name": "stdout",
          "text": [
            "+---------+--------------------+--------------+-----------+\n",
            "|shooterId|                name|     situation| lastAction|\n",
            "+---------+--------------------+--------------+-----------+\n",
            "|       26|       Salomon Kalou|       Penalty|   Standard|\n",
            "|       26|       Salomon Kalou|    FromCorner|   HeadPass|\n",
            "|       26|       Salomon Kalou|       Penalty|   Standard|\n",
            "|       29|      Vedad Ibisevic|      OpenPlay|       Pass|\n",
            "|       47|      Yoshinori Muto|    FromCorner|      Cross|\n",
            "|       48|        Jhon C�rdoba|      OpenPlay|     Aerial|\n",
            "|       58|   Georg Niedermeier|    FromCorner|       Pass|\n",
            "|       62|          Lukas Rupp|    FromCorner|       None|\n",
            "|       65|         Timo Werner|      OpenPlay|       Pass|\n",
            "|       81|     Jonathan Schmid|      OpenPlay|   HeadPass|\n",
            "|       83|       Kevin Volland|      OpenPlay|    Rebound|\n",
            "|       88|            Mark Uth|      OpenPlay|       Pass|\n",
            "|      104|       Mevl�t Erdinc|      OpenPlay|    Rebound|\n",
            "|      110|Theodor Gebre Sel...|    FromCorner|      Cross|\n",
            "|      131|        Jonas Hector|    FromCorner|      Cross|\n",
            "|      134|        Marcel Risse|DirectFreekick|   Standard|\n",
            "|      153|   Maximilian Arnold|      OpenPlay|       None|\n",
            "|      169|        Lewis Holtby|      OpenPlay|Throughball|\n",
            "|      169|        Lewis Holtby|      OpenPlay|       None|\n",
            "|      179|      Zolt�n Stieber|      OpenPlay|   HeadPass|\n",
            "+---------+--------------------+--------------+-----------+\n",
            "only showing top 20 rows\n",
            "\n"
          ]
        }
      ]
    },
    {
      "cell_type": "markdown",
      "source": [
        "##8.Getting the values of shot result at minute 60 from 2019 season"
      ],
      "metadata": {
        "id": "Ldusl2SvEOov"
      }
    },
    {
      "cell_type": "code",
      "source": [
        "sql_str = \"SELECT g.gameID, season, s.minute, s.shotResult from games_cube AS g JOIN shots AS s ON(g.gameId = s.gameID)\"\\\n",
        " +\"where g.season = '2019' AND s.minute = 60 \"\n",
        "spark.sql( sql_str ).show()"
      ],
      "metadata": {
        "colab": {
          "base_uri": "https://localhost:8080/"
        },
        "id": "ykPy825SDBTe",
        "outputId": "e81f309c-7c40-4edc-98cb-f5d4e606bc2e"
      },
      "execution_count": null,
      "outputs": [
        {
          "output_type": "stream",
          "name": "stdout",
          "text": [
            "+------+------+------+-----------+\n",
            "|gameID|season|minute| shotResult|\n",
            "+------+------+------+-----------+\n",
            "| 11645|  2019|    60|MissedShots|\n",
            "| 11653|  2019|    60|MissedShots|\n",
            "| 11655|  2019|    60|       Goal|\n",
            "| 11657|  2019|    60|  SavedShot|\n",
            "| 11657|  2019|    60|BlockedShot|\n",
            "| 11659|  2019|    60|  SavedShot|\n",
            "| 11659|  2019|    60| ShotOnPost|\n",
            "| 11661|  2019|    60|MissedShots|\n",
            "| 11662|  2019|    60|BlockedShot|\n",
            "| 11664|  2019|    60|  SavedShot|\n",
            "| 11666|  2019|    60|BlockedShot|\n",
            "| 11670|  2019|    60|BlockedShot|\n",
            "| 11672|  2019|    60|  SavedShot|\n",
            "| 11677|  2019|    60|BlockedShot|\n",
            "| 11680|  2019|    60|  SavedShot|\n",
            "| 11681|  2019|    60|MissedShots|\n",
            "| 11683|  2019|    60|  SavedShot|\n",
            "| 11684|  2019|    60|MissedShots|\n",
            "| 11686|  2019|    60|  SavedShot|\n",
            "| 11688|  2019|    60|BlockedShot|\n",
            "+------+------+------+-----------+\n",
            "only showing top 20 rows\n",
            "\n"
          ]
        }
      ]
    },
    {
      "cell_type": "markdown",
      "source": [
        "#9.No of shots of players made where result = goal minute =90 and shots > 5."
      ],
      "metadata": {
        "id": "dc8-aYhJBYtj"
      }
    },
    {
      "cell_type": "code",
      "source": [
        "sql_str = \"SELECT shooterId , p.name, SUM(a.shots) as shots , shotResult, minute  FROM shots s \" \\\n",
        "  + \"JOIN appearances a ON(s.shooterId = a.playerID)\"\\\n",
        "  +\" JOIN players p ON(s.shooterId = p.playerID) WHERE a.shots > 5 AND shotResult = 'Goal' AND minute = 90\"\\\n",
        "  +\" GROUP BY shooterId, p.name, shotResult, minute\"\n",
        "spark.sql( sql_str ).show()"
      ],
      "metadata": {
        "colab": {
          "base_uri": "https://localhost:8080/"
        },
        "id": "_bygg1kYB3AA",
        "outputId": "7634dc8c-eeab-4be5-d3f5-8073dc08af67"
      },
      "execution_count": null,
      "outputs": [
        {
          "output_type": "stream",
          "name": "stdout",
          "text": [
            "+---------+--------------------+-----+----------+------+\n",
            "|shooterId|                name|shots|shotResult|minute|\n",
            "+---------+--------------------+-----+----------+------+\n",
            "|      337|          Leroy San�|   18|      Goal|    90|\n",
            "|      942|     Florian Thauvin|  206|      Goal|    90|\n",
            "|     1518|     Rodrigo Palacio|   13|      Goal|    90|\n",
            "|      717|     Baf�timbi Gomis|   38|      Goal|    90|\n",
            "|     3577|      Cheick Diabat�|    7|      Goal|    90|\n",
            "|      360|         �d�m Szalai|   21|      Goal|    90|\n",
            "|     1723|     Roberto Pereyra|    6|      Goal|    90|\n",
            "|     1728|   Fernando Llorente|   24|      Goal|    90|\n",
            "|     4119|       Alberto Bueno|   40|      Goal|    90|\n",
            "|     5222|     Joel Pohjanpalo|   13|      Goal|    90|\n",
            "|     3544|        Jeremie Boga|    6|      Goal|    90|\n",
            "|      888|     Xherdan Shaqiri|    6|      Goal|    90|\n",
            "|     1291|            Hernanes|   12|      Goal|    90|\n",
            "|     3570|  Benjamin Moukandjo|   12|      Goal|    90|\n",
            "|      802|         Diego Costa|   46|      Goal|    90|\n",
            "|      318|Pierre-Emerick Au...|  765|      Goal|    90|\n",
            "|     2328|       Thomas Partey|   12|      Goal|    90|\n",
            "|     1253|          Edin Dzeko|  307|      Goal|    90|\n",
            "|     1580|       Mattia Destro|   12|      Goal|    90|\n",
            "|     1219|        Luis Alberto|  134|      Goal|    90|\n",
            "+---------+--------------------+-----+----------+------+\n",
            "only showing top 20 rows\n",
            "\n"
          ]
        }
      ]
    },
    {
      "cell_type": "markdown",
      "source": [
        "##10.Gameid, homegoals, awaygoals and awayprobability  where awayprobability was greater than homeprobability and awayteam goals where 3 more than home team goals"
      ],
      "metadata": {
        "id": "3V7yXMhn2xCm"
      }
    },
    {
      "cell_type": "code",
      "source": [
        "sql_str = \"SELECT gameID, homeGoals, awayGoals, awayProbability from games\"\\\n",
        "\" where awayProbability > homeProbability AND awayGoals > 3*homeGoals \"\n",
        "spark.sql( sql_str ).show()"
      ],
      "metadata": {
        "id": "a-MZMxu42x6g",
        "colab": {
          "base_uri": "https://localhost:8080/"
        },
        "outputId": "ea42e061-554f-4336-d78c-cc8d8267bb40"
      },
      "execution_count": null,
      "outputs": [
        {
          "output_type": "stream",
          "name": "stdout",
          "text": [
            "+------+---------+---------+---------------+\n",
            "|gameID|homeGoals|awayGoals|awayProbability|\n",
            "+------+---------+---------+---------------+\n",
            "|    90|        0|        3|         0.7687|\n",
            "|    91|        0|        1|         0.4291|\n",
            "|    92|        0|        3|         0.4619|\n",
            "|   108|        0|        2|         0.6532|\n",
            "|   111|        0|        1|         0.9348|\n",
            "|   116|        0|        3|          0.467|\n",
            "|   123|        0|        1|         0.9174|\n",
            "|   128|        0|        1|         0.4623|\n",
            "|   149|        0|        1|         0.7996|\n",
            "|   152|        0|        1|         0.3847|\n",
            "|   166|        0|        3|         0.5927|\n",
            "|   168|        0|        3|         0.9274|\n",
            "|   170|        0|        1|         0.7365|\n",
            "|   174|        0|        1|         0.4872|\n",
            "|   175|        0|        2|         0.3846|\n",
            "|   178|        1|        5|          0.961|\n",
            "|   185|        0|        3|         0.8712|\n",
            "|   196|        0|        1|         0.8173|\n",
            "|   203|        0|        1|         0.4862|\n",
            "|   205|        0|        3|         0.9674|\n",
            "+------+---------+---------+---------------+\n",
            "only showing top 20 rows\n",
            "\n"
          ]
        }
      ]
    },
    {
      "cell_type": "markdown",
      "source": [
        "# ROLL UP and DRILL DOWN"
      ],
      "metadata": {
        "id": "K_Vuiafe3Mz6"
      }
    },
    {
      "cell_type": "markdown",
      "source": [
        "##11. Get id, season, homeGoals, homeProbability from games table with roll up\n"
      ],
      "metadata": {
        "id": "qGOTF6wq8FVw"
      }
    },
    {
      "cell_type": "code",
      "source": [
        "sql_str = \"SELECT gameId, season, homeGoals , homeProbability FROM games\"\\\n",
        "+\" group by gameId, season, homeGoals, homeProbability WITH ROLLUP ORDER BY gameId \"\n",
        "shots_roll_up = spark.sql( sql_str )\n",
        "shots_roll_up.show()"
      ],
      "metadata": {
        "colab": {
          "base_uri": "https://localhost:8080/"
        },
        "id": "OKGqpq3c3Nrq",
        "outputId": "9bec8fef-503c-4ac5-fe12-b6cc1866a720"
      },
      "execution_count": null,
      "outputs": [
        {
          "output_type": "stream",
          "name": "stdout",
          "text": [
            "+------+------+---------+---------------+\n",
            "|gameId|season|homeGoals|homeProbability|\n",
            "+------+------+---------+---------------+\n",
            "|  null|  null|     null|           null|\n",
            "|    81|  2015|     null|           null|\n",
            "|    81|  null|     null|           null|\n",
            "|    81|  2015|        1|         0.2843|\n",
            "|    81|  2015|        1|           null|\n",
            "|    82|  2015|     null|           null|\n",
            "|    82|  2015|        0|         0.3574|\n",
            "|    82|  null|     null|           null|\n",
            "|    82|  2015|        0|           null|\n",
            "|    83|  2015|     null|           null|\n",
            "|    83|  null|     null|           null|\n",
            "|    83|  2015|        2|           null|\n",
            "|    83|  2015|        2|         0.2988|\n",
            "|    84|  2015|        4|           null|\n",
            "|    84|  2015|        4|         0.6422|\n",
            "|    84|  2015|     null|           null|\n",
            "|    84|  null|     null|           null|\n",
            "|    85|  null|     null|           null|\n",
            "|    85|  2015|        1|           null|\n",
            "|    85|  2015|        1|         0.1461|\n",
            "+------+------+---------+---------------+\n",
            "only showing top 20 rows\n",
            "\n"
          ]
        }
      ]
    },
    {
      "cell_type": "markdown",
      "source": [
        "##12.Get shooterid, situation, minute, shotResult with rollup"
      ],
      "metadata": {
        "id": "smbU4VZqJnzf"
      }
    },
    {
      "cell_type": "code",
      "source": [
        "sql_str = \"SELECT shooterId, situation, minute , shotResult FROM shots\"\\\n",
        "+\" group by shooterId, situation, shotResult,minute WITH ROLLUP ORDER BY shooterId\"\n",
        "shots_roll_up = spark.sql( sql_str )\n",
        "shots_roll_up.show()"
      ],
      "metadata": {
        "colab": {
          "base_uri": "https://localhost:8080/"
        },
        "id": "EYLHwii3Id1u",
        "outputId": "83a5b4a6-14b2-4b03-aa10-be8b4aee12ff"
      },
      "execution_count": null,
      "outputs": [
        {
          "output_type": "stream",
          "name": "stdout",
          "text": [
            "+---------+----------+------+-----------+\n",
            "|shooterId| situation|minute| shotResult|\n",
            "+---------+----------+------+-----------+\n",
            "|     null|      null|  null|       null|\n",
            "|        2|FromCorner|  null|       null|\n",
            "|        2|  SetPiece|    67|    OwnGoal|\n",
            "|        2|  SetPiece|  null|       null|\n",
            "|        2|  SetPiece|  null|  SavedShot|\n",
            "|        2|  SetPiece|  null|    OwnGoal|\n",
            "|        2|FromCorner|    93|MissedShots|\n",
            "|        2|      null|  null|       null|\n",
            "|        2|FromCorner|  null|MissedShots|\n",
            "|        2|  SetPiece|     1|  SavedShot|\n",
            "|        2|FromCorner|    58|MissedShots|\n",
            "|        3|FromCorner|  null|  SavedShot|\n",
            "|        3|  OpenPlay|  null|       Goal|\n",
            "|        3|FromCorner|    53|MissedShots|\n",
            "|        3|  SetPiece|    57|MissedShots|\n",
            "|        3|  OpenPlay|    21|  SavedShot|\n",
            "|        3|FromCorner|    15|MissedShots|\n",
            "|        3|FromCorner|    89|BlockedShot|\n",
            "|        3|  OpenPlay|  null|MissedShots|\n",
            "|        3|FromCorner|  null| ShotOnPost|\n",
            "+---------+----------+------+-----------+\n",
            "only showing top 20 rows\n",
            "\n"
          ]
        }
      ]
    },
    {
      "cell_type": "markdown",
      "source": [
        "##13.Playerid, his name, total own goals in different season"
      ],
      "metadata": {
        "id": "LOSZeg5y5ZKT"
      }
    },
    {
      "cell_type": "code",
      "source": [
        "sql_str = \"SELECT a.playerId, p.name, SUM(ownGoals) as ownGoals, g.season  FROM appearances a JOIN players p ON\"\\\n",
        "+\" (a.playerId = p.PlayerId) JOIN games g ON(a.gameId = g.gameId) GROUP BY a.playerId, p.name, g.season WITH ROLLUP\"\\\n",
        "+\" ORDER BY a.playerId, g.season\"\n",
        "\n",
        "shots_roll_up = spark.sql( sql_str )\n",
        "shots_roll_up.show()"
      ],
      "metadata": {
        "colab": {
          "base_uri": "https://localhost:8080/"
        },
        "id": "6A_rx0RN5cWk",
        "outputId": "3db23131-47fe-40c1-d2d6-bdbd4f49d18d"
      },
      "execution_count": null,
      "outputs": [
        {
          "output_type": "stream",
          "name": "stdout",
          "text": [
            "+--------+------------------+--------+------+\n",
            "|playerId|              name|ownGoals|season|\n",
            "+--------+------------------+--------+------+\n",
            "|    null|              null|    1014|  null|\n",
            "|       1|Christian Mathenia|       0|  null|\n",
            "|       1|              null|       0|  null|\n",
            "|       1|Christian Mathenia|       0|  2015|\n",
            "|       1|Christian Mathenia|       0|  2016|\n",
            "|       1|Christian Mathenia|       0|  2017|\n",
            "|       1|Christian Mathenia|       0|  2018|\n",
            "|       2|              null|       1|  null|\n",
            "|       2|     Gy�rgy Garics|       1|  null|\n",
            "|       2|     Gy�rgy Garics|       1|  2015|\n",
            "|       3|    Luca Caldirola|       0|  null|\n",
            "|       3|              null|       0|  null|\n",
            "|       3|    Luca Caldirola|       0|  2014|\n",
            "|       3|    Luca Caldirola|       0|  2015|\n",
            "|       3|    Luca Caldirola|       0|  2016|\n",
            "|       3|    Luca Caldirola|       0|  2017|\n",
            "|       3|    Luca Caldirola|       0|  2020|\n",
            "|       4|        Aytac Sulu|       3|  null|\n",
            "|       4|              null|       3|  null|\n",
            "|       4|        Aytac Sulu|       2|  2015|\n",
            "+--------+------------------+--------+------+\n",
            "only showing top 20 rows\n",
            "\n"
          ]
        }
      ]
    },
    {
      "cell_type": "markdown",
      "source": [
        "# Q09 PIVOT"
      ],
      "metadata": {
        "id": "bQ6sdFQ2QUjD"
      }
    },
    {
      "cell_type": "markdown",
      "source": [
        "##14.Get game id, home goals from season 2015,2016,2017,2018"
      ],
      "metadata": {
        "id": "9yqLc65EKH6o"
      }
    },
    {
      "cell_type": "code",
      "source": [
        "\n",
        "sql_str = \"SELECT * FROM \"\\\n",
        "  +\"(SELECT gameId ,season as season, homeGoals FROM games  )  \" \\\n",
        "  + \"PIVOT ( sum(homeGoals) FOR season IN ( '2015','2016','2017','2018' ))\"\n",
        "pivoted = spark.sql( sql_str )\n",
        "pivoted.show()"
      ],
      "metadata": {
        "id": "VWj_Q6m0BzZo",
        "colab": {
          "base_uri": "https://localhost:8080/"
        },
        "outputId": "8f3d4e72-39b2-407e-d6eb-cd24e70d6eb0"
      },
      "execution_count": null,
      "outputs": [
        {
          "output_type": "stream",
          "name": "stdout",
          "text": [
            "+------+----+----+----+----+\n",
            "|gameId|2015|2016|2017|2018|\n",
            "+------+----+----+----+----+\n",
            "|  7340|null|null|   0|null|\n",
            "| 11858|null|null|null|null|\n",
            "|  2866|null|   1|null|null|\n",
            "|  3997|null|   0|null|null|\n",
            "| 15790|null|null|null|null|\n",
            "| 14832|null|null|null|null|\n",
            "|  7253|null|null|   1|null|\n",
            "| 12799|null|null|null|null|\n",
            "| 13285|null|null|null|null|\n",
            "|  1088|   2|null|null|null|\n",
            "|  3175|null|   3|null|null|\n",
            "|  7554|null|null|   4|null|\n",
            "| 10206|null|null|null|   0|\n",
            "|   471|null|   2|null|null|\n",
            "| 11748|null|null|null|null|\n",
            "|   148|   2|null|null|null|\n",
            "|  9376|null|null|null|   3|\n",
            "|  3794|null|   1|null|null|\n",
            "|   496|null|   1|null|null|\n",
            "|  1580|   1|null|null|null|\n",
            "+------+----+----+----+----+\n",
            "only showing top 20 rows\n",
            "\n"
          ]
        }
      ]
    },
    {
      "cell_type": "markdown",
      "source": [
        "##15.Get shooter id, shot result, total Excepted goals from 75, 34, 90, 13"
      ],
      "metadata": {
        "id": "YovPeu4NKOIt"
      }
    },
    {
      "cell_type": "code",
      "source": [
        "\n",
        "\n",
        "sql_str = \"SELECT * FROM \"\\\n",
        "  +\"(SELECT shooterId, xGoal, minute , shotResult FROM shots ) \" \\\n",
        "  + \"PIVOT ( SUM(xGoal) FOR minute IN ( 75,34,90,13 ))\"\n",
        "pivoted = spark.sql( sql_str )\n",
        "pivoted.show()"
      ],
      "metadata": {
        "colab": {
          "base_uri": "https://localhost:8080/"
        },
        "id": "_hGDDi8PGcIe",
        "outputId": "a324d212-cd9d-4d78-f5fd-a7e5af280c83"
      },
      "execution_count": null,
      "outputs": [
        {
          "output_type": "stream",
          "name": "stdout",
          "text": [
            "+---------+-----------+------------------+------------------+------------------+-------------------+\n",
            "|shooterId| shotResult|                75|                34|                90|                 13|\n",
            "+---------+-----------+------------------+------------------+------------------+-------------------+\n",
            "|     2370|       Goal|0.4882115051150328|              null|0.5338043384253979| 0.5510657429695132|\n",
            "|     2233|BlockedShot|              null|              null|              null|               null|\n",
            "|     3795|MissedShots|0.0822890996932983|              null|1.2884900569915778| 0.3453409960493449|\n",
            "|     3422|  SavedShot|              null| 0.105036497116089|  0.05373315513134|               null|\n",
            "|      301|BlockedShot| 0.107572317123413|0.0515943244099617|              null|               null|\n",
            "|      300|  SavedShot|0.0297455172985792|0.0677571892738342|              null| 0.0501434840261936|\n",
            "|     4297|MissedShots|              null|              null|              null|  0.246945753693581|\n",
            "|     1029|       Goal|              null|              null|              null|               null|\n",
            "|      633|MissedShots|              null|              null|              null|               null|\n",
            "|     1604|MissedShots| 0.384754240512848|0.0534644387662411|              null| 0.0161092840135098|\n",
            "|      453|  SavedShot|              null|0.8364370167255404|              null|               null|\n",
            "|      185|MissedShots|              null|              null|              null|               null|\n",
            "|      313|BlockedShot|              null|              null|0.0158107243478298|               null|\n",
            "|     1726|  SavedShot|              null|              null|0.0443860851228237| 0.0641456246376038|\n",
            "|      878|  SavedShot|0.1181230247020721|              null|              null|               null|\n",
            "|     4060|  SavedShot|              null|              null|              null|               null|\n",
            "|      603|MissedShots|0.0835353508591652| 0.045158039778471|              null|               null|\n",
            "|       64|MissedShots| 0.116914980113506|0.0130163738504052| 0.436274163424968|0.09385521896183491|\n",
            "|     1101|       Goal|              null|              null|              null|               null|\n",
            "|     5619|  SavedShot|              null|0.0624480918049812|              null|               null|\n",
            "+---------+-----------+------------------+------------------+------------------+-------------------+\n",
            "only showing top 20 rows\n",
            "\n"
          ]
        }
      ]
    }
  ]
}